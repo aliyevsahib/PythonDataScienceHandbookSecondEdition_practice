{
 "cells": [
  {
   "cell_type": "code",
   "execution_count": 1,
   "id": "e09c1c2c-8a6c-4097-8809-9760f3faf14b",
   "metadata": {},
   "outputs": [
    {
     "name": "stdout",
     "output_type": "stream",
     "text": [
      "58.8 μs ± 3.25 μs per loop (mean ± std. dev. of 7 runs, 10,000 loops each)\n"
     ]
    }
   ],
   "source": [
    "%timeit L = [n**2 for n in range(1000)]"
   ]
  },
  {
   "cell_type": "code",
   "execution_count": 1,
   "id": "2cfc9f42-75c7-48f6-bbc2-0ddd07b402f3",
   "metadata": {},
   "outputs": [
    {
     "name": "stdout",
     "output_type": "stream",
     "text": [
      "122 μs ± 20.5 μs per loop (mean ± std. dev. of 7 runs, 10,000 loops each)\n"
     ]
    }
   ],
   "source": [
    "%%timeit\n",
    "L = []\n",
    "for n in range(1000):\n",
    "    L.append(n**2)\n"
   ]
  },
  {
   "cell_type": "code",
   "execution_count": 2,
   "id": "e8285d3d-d9c2-46b4-b2c7-905d5bf151f8",
   "metadata": {},
   "outputs": [
    {
     "data": {
      "text/plain": [
       "\u001b[31mDocstring:\u001b[39m\n",
       "Time execution of a Python statement or expression\n",
       "\n",
       "**Usage, in line mode**::\n",
       "\n",
       "  %timeit [-n<N> -r<R> [-t|-c] -q -p<P> [-o|-v <V>]] statement\n",
       "\n",
       "**or in cell mode**::\n",
       "\n",
       "  %%timeit [-n<N> -r<R> [-t|-c] -q -p<P> [-o|-v <V>]] setup_code\n",
       "  code\n",
       "  code...\n",
       "\n",
       "Time execution of a Python statement or expression using the timeit\n",
       "module.  This function can be used both as a line and cell magic:\n",
       "\n",
       "- In line mode you can time a single-line statement (though multiple\n",
       "  ones can be chained with using semicolons).\n",
       "\n",
       "- In cell mode, the statement in the first line is used as setup code\n",
       "  (executed but not timed) and the body of the cell is timed.  The cell\n",
       "  body has access to any variables created in the setup code.\n",
       "\n",
       "Options:\n",
       "\n",
       "-n<N>\n",
       "  Execute the given statement N times in a loop. If N is not\n",
       "  provided, N is determined so as to get sufficient accuracy.\n",
       "\n",
       "-r<R>\n",
       "  Number of repeats R, each consisting of N loops, and take the\n",
       "  average result.\n",
       "  Default: 7\n",
       "\n",
       "-t\n",
       "  Use ``time.time`` to measure the time, which is the default on Unix.\n",
       "  This function measures wall time.\n",
       "\n",
       "-c\n",
       "  Use ``time.clock`` to measure the time, which is the default on\n",
       "  Windows and measures wall time. On Unix, ``resource.getrusage`` is used\n",
       "  instead and returns the CPU user time.\n",
       "\n",
       "-p<P>\n",
       "  Use a precision of P digits to display the timing result.\n",
       "  Default: 3\n",
       "\n",
       "-q\n",
       "  Quiet, do not print result.\n",
       "\n",
       "-o\n",
       "  Return a ``TimeitResult`` that can be stored in a variable to inspect\n",
       "  the result in more details.\n",
       "\n",
       "-v <V>\n",
       "  Like ``-o``, but save the ``TimeitResult`` directly to variable <V>.\n",
       "\n",
       ".. versionchanged:: 7.3\n",
       "    User variables are no longer expanded,\n",
       "    the magic line is always left unmodified.\n",
       "\n",
       "Examples\n",
       "--------\n",
       "::\n",
       "\n",
       "  In [1]: %timeit pass\n",
       "  8.26 ns ± 0.12 ns per loop (mean ± std. dev. of 7 runs, 100000000 loops each)\n",
       "\n",
       "  In [2]: u = None\n",
       "\n",
       "  In [3]: %timeit u is None\n",
       "  29.9 ns ± 0.643 ns per loop (mean ± std. dev. of 7 runs, 10000000 loops each)\n",
       "\n",
       "  In [4]: %timeit -r 4 u == None\n",
       "\n",
       "  In [5]: import time\n",
       "\n",
       "  In [6]: %timeit -n1 time.sleep(2)\n",
       "\n",
       "The times reported by ``%timeit`` will be slightly higher than those\n",
       "reported by the timeit.py script when variables are accessed. This is\n",
       "due to the fact that ``%timeit`` executes the statement in the namespace\n",
       "of the shell, compared with timeit.py, which uses a single setup\n",
       "statement to import function or create variables. Generally, the bias\n",
       "does not matter as long as results from timeit.py are not mixed with\n",
       "those from ``%timeit``.\n",
       "\u001b[31mFile:\u001b[39m      c:\\users\\hp\\miniconda3\\lib\\site-packages\\ipython\\core\\magics\\execution.py"
      ]
     },
     "metadata": {},
     "output_type": "display_data"
    }
   ],
   "source": [
    "%timeit?"
   ]
  },
  {
   "cell_type": "code",
   "execution_count": 4,
   "id": "dd16f5da-cf37-48ec-84b0-6ecbab281b3b",
   "metadata": {},
   "outputs": [
    {
     "data": {
      "text/plain": [
       "\u001b[31mDocstring:\u001b[39m\n",
       "Print information about the magic function system.\n",
       "\n",
       "Supported formats: -latex, -brief, -rest\n",
       "\u001b[31mFile:\u001b[39m      e:\\miniconda3\\lib\\site-packages\\ipython\\core\\magics\\basic.py"
      ]
     },
     "metadata": {},
     "output_type": "display_data"
    }
   ],
   "source": [
    "%magic?"
   ]
  },
  {
   "cell_type": "code",
   "execution_count": 3,
   "id": "8591a20d-0e53-457b-8c04-10fd5249d5ee",
   "metadata": {},
   "outputs": [
    {
     "data": {
      "text/plain": [
       "\u001b[31mDocstring:\u001b[39m List currently available magic functions.\n",
       "\u001b[31mFile:\u001b[39m      c:\\users\\hp\\miniconda3\\lib\\site-packages\\ipython\\core\\magics\\basic.py"
      ]
     },
     "metadata": {},
     "output_type": "display_data"
    }
   ],
   "source": [
    "%lsmagic?"
   ]
  },
  {
   "cell_type": "code",
   "execution_count": 6,
   "id": "ccd02049-47dc-4e44-b305-7eac8e00c43f",
   "metadata": {},
   "outputs": [],
   "source": [
    "import math"
   ]
  },
  {
   "cell_type": "code",
   "execution_count": 7,
   "id": "02af4aea-e5d8-4239-960f-40457739e2a1",
   "metadata": {},
   "outputs": [
    {
     "data": {
      "text/plain": [
       "0.9092974268256817"
      ]
     },
     "execution_count": 7,
     "metadata": {},
     "output_type": "execute_result"
    }
   ],
   "source": [
    "math.sin(2)"
   ]
  },
  {
   "cell_type": "code",
   "execution_count": 8,
   "id": "dbc23433-46c6-4e98-8336-505e932e7a8d",
   "metadata": {},
   "outputs": [
    {
     "data": {
      "text/plain": [
       "-0.4161468365471424"
      ]
     },
     "execution_count": 8,
     "metadata": {},
     "output_type": "execute_result"
    }
   ],
   "source": [
    "math.cos(2)"
   ]
  },
  {
   "cell_type": "code",
   "execution_count": 4,
   "id": "b574ac3d-fb8d-4c58-8c30-21eddbffa4a2",
   "metadata": {},
   "outputs": [
    {
     "data": {
      "text/plain": [
       "['',\n",
       " \"get_ipython().run_cell_magic('timeit', '', 'L = []\\\\nfor n in range(1000):\\\\n    L.append(n**2)\\\\n')\",\n",
       " \"get_ipython().run_line_magic('pinfo', '%timeit')\",\n",
       " \"get_ipython().run_line_magic('pinfo', '%lsmagic')\",\n",
       " 'In']"
      ]
     },
     "execution_count": 4,
     "metadata": {},
     "output_type": "execute_result"
    }
   ],
   "source": [
    "In"
   ]
  },
  {
   "cell_type": "code",
   "execution_count": 10,
   "id": "97159697-f538-4ac9-8bdf-2a46327a42fc",
   "metadata": {},
   "outputs": [
    {
     "data": {
      "text/plain": [
       "{7: 0.9092974268256817,\n",
       " 8: -0.4161468365471424,\n",
       " 9: ['',\n",
       "  \"get_ipython().run_line_magic('timeit', 'L = [n**2 for n in range(1000)]')\",\n",
       "  \"get_ipython().run_cell_magic('timeit', '', 'L = []\\\\nfor n in range(1000):\\\\n    L.append(n**2)\\\\n')\",\n",
       "  \"get_ipython().run_line_magic('pinfo', '%timeit')\",\n",
       "  \"get_ipython().run_line_magic('pinfo', '%magic')\",\n",
       "  \"get_ipython().run_line_magic('pinfo', '%lsmagic')\",\n",
       "  'import math',\n",
       "  'math.sin(2)',\n",
       "  'math.cos(2)',\n",
       "  'In',\n",
       "  'Out']}"
      ]
     },
     "execution_count": 10,
     "metadata": {},
     "output_type": "execute_result"
    }
   ],
   "source": [
    "Out"
   ]
  },
  {
   "cell_type": "code",
   "execution_count": 13,
   "id": "95efc574-17ef-491a-aed9-508641330cec",
   "metadata": {},
   "outputs": [
    {
     "name": "stdout",
     "output_type": "stream",
     "text": [
      "import math\n"
     ]
    }
   ],
   "source": [
    "print(In[6])"
   ]
  },
  {
   "cell_type": "code",
   "execution_count": 14,
   "id": "3b58c272-0ae5-4eb8-87fb-7a9d0ff170e0",
   "metadata": {},
   "outputs": [
    {
     "name": "stdout",
     "output_type": "stream",
     "text": [
      "0.9092974268256817\n"
     ]
    }
   ],
   "source": [
    "print(Out[7])"
   ]
  },
  {
   "cell_type": "code",
   "execution_count": 15,
   "id": "da4e2b0a-3a37-43ff-8f2c-a77cf6f08c43",
   "metadata": {},
   "outputs": [
    {
     "data": {
      "text/plain": [
       "1.0"
      ]
     },
     "execution_count": 15,
     "metadata": {},
     "output_type": "execute_result"
    }
   ],
   "source": [
    "Out[7]**2 + Out[8]**2"
   ]
  },
  {
   "cell_type": "code",
   "execution_count": 16,
   "id": "648789fc-d25f-4404-be88-a74724d8ceb8",
   "metadata": {},
   "outputs": [
    {
     "name": "stdout",
     "output_type": "stream",
     "text": [
      "1.0\n"
     ]
    }
   ],
   "source": [
    "print(_)"
   ]
  },
  {
   "cell_type": "code",
   "execution_count": 18,
   "id": "9d602a6f-1bca-4c34-aa54-5b6c6697ec48",
   "metadata": {},
   "outputs": [
    {
     "name": "stdout",
     "output_type": "stream",
     "text": [
      "-0.4161468365471424\n"
     ]
    }
   ],
   "source": [
    "print(___)"
   ]
  },
  {
   "cell_type": "code",
   "execution_count": 20,
   "id": "f9269fad-d268-4110-9f40-3b3f7f53172f",
   "metadata": {},
   "outputs": [
    {
     "data": {
      "text/plain": [
       "0.9092974268256817"
      ]
     },
     "execution_count": 20,
     "metadata": {},
     "output_type": "execute_result"
    }
   ],
   "source": [
    "Out[7]"
   ]
  },
  {
   "cell_type": "code",
   "execution_count": 21,
   "id": "566a8f06-1a0e-4f92-a80f-1a4f65b94530",
   "metadata": {},
   "outputs": [
    {
     "data": {
      "text/plain": [
       "0.9092974268256817"
      ]
     },
     "execution_count": 21,
     "metadata": {},
     "output_type": "execute_result"
    }
   ],
   "source": [
    "_7"
   ]
  },
  {
   "cell_type": "code",
   "execution_count": 22,
   "id": "560d93e3-aca5-40d2-bc66-f4d602e40290",
   "metadata": {},
   "outputs": [],
   "source": [
    "math.sin(2) + math.cos(2);"
   ]
  },
  {
   "cell_type": "code",
   "execution_count": 23,
   "id": "6d4b55a0-e589-4384-9bc4-8c58adbff8fa",
   "metadata": {},
   "outputs": [
    {
     "data": {
      "text/plain": [
       "False"
      ]
     },
     "execution_count": 23,
     "metadata": {},
     "output_type": "execute_result"
    }
   ],
   "source": [
    "22 in Out"
   ]
  },
  {
   "cell_type": "code",
   "execution_count": 25,
   "id": "fddda0b1-e513-469e-b9e9-f5f1a22f5014",
   "metadata": {},
   "outputs": [
    {
     "name": "stdout",
     "output_type": "stream",
     "text": [
      "   7: math.sin(2)\n",
      "   8: math.cos(2)\n",
      "   9: In\n",
      "  10: Out\n",
      "  11: print(In[1])\n"
     ]
    }
   ],
   "source": [
    "%history -n 7-11"
   ]
  },
  {
   "cell_type": "code",
   "execution_count": 26,
   "id": "fcde2ace-b903-4414-81bd-580e5000d9d0",
   "metadata": {},
   "outputs": [
    {
     "data": {
      "text/plain": [
       "\u001b[31mDocstring:\u001b[39m\n",
       "::\n",
       "\n",
       "  %history [-n] [-o] [-p] [-t] [-f FILENAME] [-g [PATTERN ...]] [-l [LIMIT]] [-u] [range ...]\n",
       "\n",
       "Print input history (_i<n> variables), with most recent last.\n",
       "\n",
       "By default, input history is printed without line numbers so it can be\n",
       "directly pasted into an editor. Use -n to show them.\n",
       "\n",
       "By default, all input history from the current session is displayed.\n",
       "Ranges of history can be indicated using the syntax:\n",
       "\n",
       "``4``\n",
       "    Line 4, current session\n",
       "``4-6``\n",
       "    Lines 4-6, current session\n",
       "``243/1-5``\n",
       "    Lines 1-5, session 243\n",
       "``~2/7``\n",
       "    Line 7, session 2 before current\n",
       "``~8/1-~6/5``\n",
       "    From the first line of 8 sessions ago, to the fifth line of 6\n",
       "    sessions ago.\n",
       "\n",
       "Multiple ranges can be entered, separated by spaces\n",
       "\n",
       "The same syntax is used by %macro, %save, %edit, %rerun\n",
       "\n",
       "Examples\n",
       "--------\n",
       "::\n",
       "\n",
       "  In [6]: %history -n 4-6\n",
       "  4:a = 12\n",
       "  5:print(a**2)\n",
       "  6:%history -n 4-6\n",
       "\n",
       "positional arguments:\n",
       "  range\n",
       "\n",
       "options:\n",
       "  -n                  print line numbers for each input. This feature is only available if numbered prompts are in\n",
       "                      use.\n",
       "  -o                  also print outputs for each input.\n",
       "  -p                  print classic '>>>' python prompts before each input. This is useful for making documentation,\n",
       "                      and in conjunction with -o, for producing doctest-ready output.\n",
       "  -t                  print the 'translated' history, as IPython understands it. IPython filters your input and\n",
       "                      converts it all into valid Python source before executing it (things like magics or aliases are\n",
       "                      turned into function calls, for example). With this option, you'll see the native history\n",
       "                      instead of the user-entered version: '%cd /' will be seen as 'get_ipython().run_line_magic(\"cd\",\n",
       "                      \"/\")' instead of '%cd /'.\n",
       "  -f FILENAME         FILENAME: instead of printing the output to the screen, redirect it to the given file. The file\n",
       "                      is always overwritten, though *when it can*, IPython asks for confirmation first. In particular,\n",
       "                      running the command 'history -f FILENAME' from the IPython Notebook interface will replace\n",
       "                      FILENAME even if it already exists *without* confirmation.\n",
       "  -g <[PATTERN ...]>  treat the arg as a glob pattern to search for in (full) history. This includes the saved history\n",
       "                      (almost all commands ever written). The pattern may contain '?' to match one unknown character\n",
       "                      and '*' to match any number of unknown characters. Use '%hist -g' to show full saved history\n",
       "                      (may be very long).\n",
       "  -l <[LIMIT]>        get the last n lines from all sessions. Specify n as a single arg, or the default is the last 10\n",
       "                      lines.\n",
       "  -u                  when searching history using `-g`, show only unique history.\n",
       "\u001b[31mFile:\u001b[39m      e:\\miniconda3\\lib\\site-packages\\ipython\\core\\magics\\history.py"
      ]
     },
     "metadata": {},
     "output_type": "display_data"
    }
   ],
   "source": [
    "%history?"
   ]
  },
  {
   "cell_type": "code",
   "execution_count": 28,
   "id": "e64524f7-c414-4e38-89a1-953d90f5f4f7",
   "metadata": {},
   "outputs": [
    {
     "name": "stdout",
     "output_type": "stream",
     "text": [
      "=== Executing: ===\n",
      "print(Out[7])\n",
      "=== Output: ===\n",
      "0.9092974268256817\n"
     ]
    }
   ],
   "source": [
    "%rerun 14 in In"
   ]
  },
  {
   "cell_type": "code",
   "execution_count": null,
   "id": "fa874948-b805-4010-8883-7f76ead1c504",
   "metadata": {},
   "outputs": [],
   "source": []
  }
 ],
 "metadata": {
  "kernelspec": {
   "display_name": "Python 3 (ipykernel)",
   "language": "python",
   "name": "python3"
  },
  "language_info": {
   "codemirror_mode": {
    "name": "ipython",
    "version": 3
   },
   "file_extension": ".py",
   "mimetype": "text/x-python",
   "name": "python",
   "nbconvert_exporter": "python",
   "pygments_lexer": "ipython3",
   "version": "3.13.5"
  }
 },
 "nbformat": 4,
 "nbformat_minor": 5
}
