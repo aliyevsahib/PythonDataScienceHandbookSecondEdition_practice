{
 "cells": [
  {
   "cell_type": "code",
   "execution_count": 1,
   "id": "387bca43-38f7-4358-a6a4-4c8804694b77",
   "metadata": {},
   "outputs": [],
   "source": [
    "import numpy as np\n",
    "rng = np.random.default_rng()"
   ]
  },
  {
   "cell_type": "code",
   "execution_count": 2,
   "id": "00b1e119-d81f-44e8-af0b-6351147b9fa5",
   "metadata": {},
   "outputs": [
    {
     "data": {
      "text/plain": [
       "np.float64(58.209048676146914)"
      ]
     },
     "execution_count": 2,
     "metadata": {},
     "output_type": "execute_result"
    }
   ],
   "source": [
    "L = rng.random(100)\n",
    "sum(L)"
   ]
  },
  {
   "cell_type": "code",
   "execution_count": 3,
   "id": "514017b1-f78f-46f6-a667-7f844256f176",
   "metadata": {},
   "outputs": [
    {
     "data": {
      "text/plain": [
       "np.float64(58.209048676146914)"
      ]
     },
     "execution_count": 3,
     "metadata": {},
     "output_type": "execute_result"
    }
   ],
   "source": [
    "np.sum(L)"
   ]
  },
  {
   "cell_type": "code",
   "execution_count": 4,
   "id": "c195aa4b-ef81-4c9e-920d-7fc37b087ce6",
   "metadata": {},
   "outputs": [
    {
     "name": "stdout",
     "output_type": "stream",
     "text": [
      "86 ms ± 5.57 ms per loop (mean ± std. dev. of 7 runs, 10 loops each)\n",
      "746 μs ± 7.58 μs per loop (mean ± std. dev. of 7 runs, 1,000 loops each)\n"
     ]
    }
   ],
   "source": [
    "big_array = rng.random(1000000)\n",
    "%timeit sum(big_array)\n",
    "%timeit np.sum(big_array)"
   ]
  },
  {
   "cell_type": "code",
   "execution_count": 5,
   "id": "4ebf4ea9-9563-4f27-bf72-2471ec64ed87",
   "metadata": {},
   "outputs": [
    {
     "data": {
      "text/plain": [
       "(np.float64(7.573872221611211e-07), np.float64(0.9999997615627194))"
      ]
     },
     "execution_count": 5,
     "metadata": {},
     "output_type": "execute_result"
    }
   ],
   "source": [
    "min(big_array), max(big_array)"
   ]
  },
  {
   "cell_type": "code",
   "execution_count": 6,
   "id": "df1e064c-d2ff-4f8a-87c8-d42a6991620d",
   "metadata": {},
   "outputs": [
    {
     "data": {
      "text/plain": [
       "(np.float64(7.573872221611211e-07), np.float64(0.9999997615627194))"
      ]
     },
     "execution_count": 6,
     "metadata": {},
     "output_type": "execute_result"
    }
   ],
   "source": [
    "np.min(big_array), np.max(big_array)"
   ]
  },
  {
   "cell_type": "code",
   "execution_count": 7,
   "id": "1b541928-96e6-4d8e-a2c1-a81806bc6935",
   "metadata": {},
   "outputs": [
    {
     "name": "stdout",
     "output_type": "stream",
     "text": [
      "59.3 ms ± 660 μs per loop (mean ± std. dev. of 7 runs, 10 loops each)\n",
      "599 μs ± 4.24 μs per loop (mean ± std. dev. of 7 runs, 1,000 loops each)\n"
     ]
    }
   ],
   "source": [
    "%timeit min(big_array)\n",
    "%timeit np.min(big_array)"
   ]
  },
  {
   "cell_type": "code",
   "execution_count": 9,
   "id": "dc398042-978e-47d5-b941-51a9f66cb015",
   "metadata": {},
   "outputs": [
    {
     "name": "stdout",
     "output_type": "stream",
     "text": [
      "[[6 6 2 3]\n",
      " [5 9 3 0]\n",
      " [9 5 8 8]]\n"
     ]
    }
   ],
   "source": [
    "M = rng.integers(0, 10, (3, 4))\n",
    "print(M)"
   ]
  },
  {
   "cell_type": "code",
   "execution_count": 10,
   "id": "58a8d683-c72c-495d-96ef-58771bfc91d2",
   "metadata": {},
   "outputs": [
    {
     "data": {
      "text/plain": [
       "np.int64(64)"
      ]
     },
     "execution_count": 10,
     "metadata": {},
     "output_type": "execute_result"
    }
   ],
   "source": [
    "M.sum()"
   ]
  },
  {
   "cell_type": "code",
   "execution_count": 11,
   "id": "3d4840e9-5655-487b-b3ce-3e1ab44ec5cf",
   "metadata": {},
   "outputs": [
    {
     "data": {
      "text/plain": [
       "array([5, 5, 2, 0])"
      ]
     },
     "execution_count": 11,
     "metadata": {},
     "output_type": "execute_result"
    }
   ],
   "source": [
    "M.min(axis=0)"
   ]
  },
  {
   "cell_type": "code",
   "execution_count": 12,
   "id": "617d0060-2b8e-4f80-bac9-5ee041dcfd36",
   "metadata": {},
   "outputs": [
    {
     "data": {
      "text/plain": [
       "array([6, 9, 9])"
      ]
     },
     "execution_count": 12,
     "metadata": {},
     "output_type": "execute_result"
    }
   ],
   "source": [
    "M.max(axis=1)"
   ]
  },
  {
   "cell_type": "code",
   "execution_count": 15,
   "id": "8392f446-e135-4a72-9925-6a2abf0a38c7",
   "metadata": {},
   "outputs": [
    {
     "data": {
      "text/plain": [
       "array([[nan, nan, nan],\n",
       "       [nan, nan, nan],\n",
       "       [nan, nan, nan]])"
      ]
     },
     "execution_count": 15,
     "metadata": {},
     "output_type": "execute_result"
    }
   ],
   "source": [
    "M = np.empty((3, 3,))\n",
    "M[:] = np.nan\n",
    "M"
   ]
  },
  {
   "cell_type": "code",
   "execution_count": 16,
   "id": "3ee7ea21-441c-4d1c-8c13-9d6af126d227",
   "metadata": {},
   "outputs": [
    {
     "data": {
      "text/plain": [
       "array([[ 1.,  2.,  3.],\n",
       "       [ 4., nan,  6.],\n",
       "       [nan,  8.,  9.]])"
      ]
     },
     "execution_count": 16,
     "metadata": {},
     "output_type": "execute_result"
    }
   ],
   "source": [
    "M[0,0] = 1\n",
    "M[0,1] = 2\n",
    "M[0,2] = 3\n",
    "M[1,0] = 4\n",
    "M[1,2] = 6\n",
    "M[2,1] = 8\n",
    "M[2,2] = 9\n",
    "M"
   ]
  },
  {
   "cell_type": "code",
   "execution_count": 21,
   "id": "3dbe2677-d3eb-415b-8d26-29cbc1b1e137",
   "metadata": {},
   "outputs": [
    {
     "data": {
      "text/plain": [
       "np.float64(nan)"
      ]
     },
     "execution_count": 21,
     "metadata": {},
     "output_type": "execute_result"
    }
   ],
   "source": [
    "np.sum(M)"
   ]
  },
  {
   "cell_type": "code",
   "execution_count": 26,
   "id": "f4e824cd-129c-4969-a963-051d9e8a47ea",
   "metadata": {},
   "outputs": [
    {
     "name": "stdout",
     "output_type": "stream",
     "text": [
      "33.0\n",
      "10368.0\n",
      "4.714285714285714\n",
      "2.813959371941744\n",
      "7.918367346938775\n",
      "1.0\n",
      "9.0\n",
      "0\n",
      "8\n",
      "4.0\n",
      "[2.5 7. ]\n"
     ]
    }
   ],
   "source": [
    "print(np.nansum(M))\n",
    "print(np.nanprod(M))\n",
    "print(np.nanmean(M))\n",
    "print(np.nanstd(M))\n",
    "print(np.nanvar(M))\n",
    "print(np.nanmin(M))\n",
    "print(np.nanmax(M))\n",
    "print(np.nanargmin(M))\n",
    "print(np.nanargmax(M))\n",
    "print(np.nanmedian(M))\n",
    "print(np.nanpercentile(M, [25, 75]))"
   ]
  },
  {
   "cell_type": "code",
   "execution_count": 33,
   "id": "6b4e31c6-2767-43e9-8b3d-b57af94f2c82",
   "metadata": {},
   "outputs": [
    {
     "name": "stdout",
     "output_type": "stream",
     "text": [
      "   order               name  height(cm)\n",
      "0      1  George Washington         189\n",
      "1      2         John Adams         170\n",
      "2      3   Thomas Jefferson         189\n",
      "3      4      James Madison         163\n",
      "4      5       James Monroe         183\n",
      "[189 170 189 163 183 171 185 168 173 183 173 173 175 178 183 193 178 173\n",
      " 174 183 183 168 170 178 182 180 183 178 182 188 175 179 183 193 182 183\n",
      " 177 185 188 188 182 185]\n"
     ]
    }
   ],
   "source": [
    "import pandas as pd\n",
    "data =  pd.read_csv('datasets/president_heights.csv')\n",
    "print(data.head(5))\n",
    "heights = np.array(data['height(cm)'])\n",
    "print(heights)"
   ]
  },
  {
   "cell_type": "code",
   "execution_count": 34,
   "id": "909825ea-afed-4f51-9622-3f7beece0b84",
   "metadata": {},
   "outputs": [
    {
     "name": "stdout",
     "output_type": "stream",
     "text": [
      "Mea height:          179.73809523809524\n",
      "Standard deviation:  6.931843442745892\n",
      "Minimum height:      163\n",
      "Maximum height:      193\n"
     ]
    }
   ],
   "source": [
    "print(\"Mea height:         \", heights.mean())\n",
    "print(\"Standard deviation: \", heights.std())\n",
    "print(\"Minimum height:     \", heights.min())\n",
    "print(\"Maximum height:     \", heights.max())"
   ]
  },
  {
   "cell_type": "code",
   "execution_count": 35,
   "id": "43cfccb2-75e4-44ea-bb66-812eae40fac1",
   "metadata": {},
   "outputs": [
    {
     "name": "stdout",
     "output_type": "stream",
     "text": [
      "25th perceptile:      174.25\n",
      "Median:               182.0\n",
      "75th perpercentile:   183.0\n"
     ]
    }
   ],
   "source": [
    "print(\"25th perceptile:     \", np.percentile(heights, 25))\n",
    "print(\"Median:              \", np.median(heights))\n",
    "print(\"75th perpercentile:  \", np.percentile(heights, 75))"
   ]
  },
  {
   "cell_type": "code",
   "execution_count": 37,
   "id": "05013f7c-8dcc-4cb6-bf53-15aaab01264c",
   "metadata": {},
   "outputs": [
    {
     "name": "stdout",
     "output_type": "stream",
     "text": [
      "['Solarize_Light2', '_classic_test_patch', '_mpl-gallery', '_mpl-gallery-nogrid', 'bmh', 'classic', 'dark_background', 'fast', 'fivethirtyeight', 'ggplot', 'grayscale', 'petroff10', 'seaborn-v0_8', 'seaborn-v0_8-bright', 'seaborn-v0_8-colorblind', 'seaborn-v0_8-dark', 'seaborn-v0_8-dark-palette', 'seaborn-v0_8-darkgrid', 'seaborn-v0_8-deep', 'seaborn-v0_8-muted', 'seaborn-v0_8-notebook', 'seaborn-v0_8-paper', 'seaborn-v0_8-pastel', 'seaborn-v0_8-poster', 'seaborn-v0_8-talk', 'seaborn-v0_8-ticks', 'seaborn-v0_8-white', 'seaborn-v0_8-whitegrid', 'tableau-colorblind10']\n"
     ]
    }
   ],
   "source": [
    "%matplotlib inline\n",
    "import matplotlib.pyplot as plt\n",
    "print(plt.style.available)"
   ]
  },
  {
   "cell_type": "code",
   "execution_count": 38,
   "id": "a98a4b87-b16d-4500-a0b6-d650919edfa4",
   "metadata": {},
   "outputs": [],
   "source": [
    "plt.style.use('seaborn-v0_8-whitegrid')"
   ]
  },
  {
   "cell_type": "code",
   "execution_count": 40,
   "id": "fbc6b801-c346-4bcd-a695-11217fed3643",
   "metadata": {},
   "outputs": [
    {
     "data": {
      "image/png": "[encoded data removed]",
      "text/plain": [
       "<Figure size 640x480 with 1 Axes>"
      ]
     },
     "metadata": {},
     "output_type": "display_data"
    }
   ],
   "source": [
    "plt.hist(heights)\n",
    "plt.title('Height Distribution of US Presidents')\n",
    "plt.xlabel('height (cm)')\n",
    "plt.ylabel('number');"
   ]
  },
  {
   "cell_type": "code",
   "execution_count": null,
   "id": "9977a825-6fd9-48e7-9442-fbb49302513a",
   "metadata": {},
   "outputs": [],
   "source": []
  }
 ],
 "metadata": {
  "kernelspec": {
   "display_name": "Python 3 (ipykernel)",
   "language": "python",
   "name": "python3"
  },
  "language_info": {
   "codemirror_mode": {
    "name": "ipython",
    "version": 3
   },
   "file_extension": ".py",
   "mimetype": "text/x-python",
   "name": "python",
   "nbconvert_exporter": "python",
   "pygments_lexer": "ipython3",
   "version": "3.13.5"
  }
 },
 "nbformat": 4,
 "nbformat_minor": 5
}
